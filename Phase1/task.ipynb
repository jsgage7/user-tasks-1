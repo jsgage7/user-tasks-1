{
 "cells": [
  {
   "cell_type": "markdown",
   "id": "28c6840d",
   "metadata": {},
   "source": [
    "### Data analysis"
   ]
  },
  {
   "cell_type": "markdown",
   "id": "4f37ea04",
   "metadata": {},
   "source": [
    "##### Current Home Value"
   ]
  },
  {
   "cell_type": "code",
   "execution_count": 8,
   "id": "ac870d25",
   "metadata": {},
   "outputs": [
    {
     "name": "stdout",
     "output_type": "stream",
     "text": [
      "Estimated current value of a typical home in Pearl City: $919,278\n"
     ]
    }
   ],
   "source": [
    "import pandas as pd\n",
    "import numpy as np\n",
    "\n",
    "# Read in the data\n",
    "df = pd.read_csv('pearl_city_sales.csv')\n",
    "\n",
    "# Convert 'Sale Date' to datetime and extract year\n",
    "df['Sale Date'] = pd.to_datetime(df['Sale Date'])\n",
    "df['Year'] = df['Sale Date'].dt.year\n",
    "\n",
    "# Assign weights: most recent year gets highest weight\n",
    "most_recent_year = df['Year'].max()\n",
    "df['weight'] = df['Year'] - df['Year'].min() + 1\n",
    "\n",
    "# Calculate weighted average sale price\n",
    "weighted_avg_price = np.average(df['Sale Price'], weights=df['weight'])\n",
    "\n",
    "print(f\"Estimated current value of a typical home in Pearl City: ${weighted_avg_price:,.0f}\")\n"
   ]
  },
  {
   "cell_type": "markdown",
   "id": "5d5c4a90",
   "metadata": {},
   "source": [
    "#### Best Time to Sell"
   ]
  },
  {
   "cell_type": "code",
   "execution_count": 12,
   "id": "040a89e3",
   "metadata": {},
   "outputs": [
    {
     "name": "stdout",
     "output_type": "stream",
     "text": [
      "Average sale price by season:\n",
      "  Summer: $952,480\n",
      "  Fall: $941,502\n",
      "  Spring: $921,252\n",
      "  Winter: $867,560\n",
      "\n",
      "Best time to sell: Summer (highest average sale price)\n"
     ]
    }
   ],
   "source": [
    "def assign_season(month):\n",
    "    if month in [12, 1, 2]:\n",
    "        return 'Winter'\n",
    "    elif month in [3, 4, 5]:\n",
    "        return 'Spring'\n",
    "    elif month in [6, 7, 8]:\n",
    "        return 'Summer'\n",
    "    else:\n",
    "        return 'Fall'\n",
    "\n",
    "def best_time_to_sell_by_season(df):\n",
    "    \"\"\"\n",
    "    Determines the best season(s) to sell based on average sale price.\n",
    "    Returns the season name(s) with the highest average sale price.\n",
    "    \"\"\"\n",
    "    df['Sale Date'] = pd.to_datetime(df['Sale Date'])\n",
    "    df['Month'] = df['Sale Date'].dt.month\n",
    "    df['Season'] = df['Month'].apply(assign_season)\n",
    "    seasonal_avg = df.groupby('Season')['Sale Price'].mean().round(0).astype(int)\n",
    "    max_avg = seasonal_avg.max()\n",
    "    best_seasons = seasonal_avg[seasonal_avg == max_avg].index.tolist()\n",
    "    print(\"Average sale price by season:\")\n",
    "    for season, avg in seasonal_avg.sort_values(ascending=False).items():\n",
    "        print(f\"  {season}: ${avg:,.0f}\")\n",
    "    print(f\"\\nBest time to sell: {', '.join(best_seasons)} (highest average sale price)\")\n",
    "\n",
    "# Example usage:\n",
    "df = pd.read_csv('pearl_city_sales.csv')\n",
    "best_time_to_sell_by_season(df)"
   ]
  },
  {
   "cell_type": "markdown",
   "id": "b7b25b76",
   "metadata": {},
   "source": [
    "#### Best potential home improvements"
   ]
  },
  {
   "cell_type": "code",
   "execution_count": 14,
   "id": "9ff250e8",
   "metadata": {},
   "outputs": [
    {
     "name": "stdout",
     "output_type": "stream",
     "text": [
      "Correlation of features with Sale Price:\n",
      "  Bedrooms: 0.08\n",
      "  Garage Spaces: 0.03\n",
      "  Bathrooms: -0.13\n",
      "  Square Footage: -0.20\n",
      "\n",
      "Features with the highest positive correlation to sale price are likely to yield the best ROI if improved.\n"
     ]
    }
   ],
   "source": [
    "df = pd.read_csv('pearl_city_sales.csv')\n",
    "\n",
    "# Select relevant features for correlation analysis\n",
    "features = ['Square Footage', 'Bedrooms', 'Bathrooms', 'Garage Spaces']\n",
    "correlations = df[features + ['Sale Price']].corr()['Sale Price'].drop('Sale Price').sort_values(ascending=False)\n",
    "\n",
    "print(\"Correlation of features with Sale Price:\")\n",
    "for feature, corr in correlations.items():\n",
    "    print(f\"  {feature}: {corr:.2f}\")\n",
    "\n",
    "print(\"\\nFeatures with the highest positive correlation to sale price are likely to yield the best ROI if improved.\")"
   ]
  },
  {
   "cell_type": "markdown",
   "id": "e6d36491",
   "metadata": {},
   "source": [
    "Based on the data, increasing the number of bedrooms or adding garage spaces may provide a modest positive impact on sale price. Improvements to bathrooms or expanding square footage are unlikely to yield a strong return on investment in this market."
   ]
  }
 ],
 "metadata": {
  "kernelspec": {
   "display_name": "base",
   "language": "python",
   "name": "python3"
  },
  "language_info": {
   "codemirror_mode": {
    "name": "ipython",
    "version": 3
   },
   "file_extension": ".py",
   "mimetype": "text/x-python",
   "name": "python",
   "nbconvert_exporter": "python",
   "pygments_lexer": "ipython3",
   "version": "3.12.2"
  }
 },
 "nbformat": 4,
 "nbformat_minor": 5
}
